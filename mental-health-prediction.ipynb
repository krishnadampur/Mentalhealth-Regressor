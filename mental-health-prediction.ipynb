{
 "cells": [
  {
   "cell_type": "code",
   "execution_count": 1,
   "metadata": {},
   "outputs": [],
   "source": [
    "import numpy as np\n",
    "import pandas as pd"
   ]
  },
  {
   "cell_type": "code",
   "execution_count": 2,
   "metadata": {
    "execution": {
     "iopub.execute_input": "2023-11-04T18:14:37.619683Z",
     "iopub.status.busy": "2023-11-04T18:14:37.619247Z",
     "iopub.status.idle": "2023-11-04T18:14:38.037993Z",
     "shell.execute_reply": "2023-11-04T18:14:38.037243Z",
     "shell.execute_reply.started": "2023-11-04T18:14:37.619655Z"
    },
    "scrolled": false
   },
   "outputs": [
    {
     "data": {
      "text/html": [
       "<div>\n",
       "<style scoped>\n",
       "    .dataframe tbody tr th:only-of-type {\n",
       "        vertical-align: middle;\n",
       "    }\n",
       "\n",
       "    .dataframe tbody tr th {\n",
       "        vertical-align: top;\n",
       "    }\n",
       "\n",
       "    .dataframe thead th {\n",
       "        text-align: right;\n",
       "    }\n",
       "</style>\n",
       "<table border=\"1\" class=\"dataframe\">\n",
       "  <thead>\n",
       "    <tr style=\"text-align: right;\">\n",
       "      <th></th>\n",
       "      <th>I am currently employed at least part-time</th>\n",
       "      <th>I identify as having a mental illness</th>\n",
       "      <th>Education</th>\n",
       "      <th>I have my own computer separate from a smart phone</th>\n",
       "      <th>I have been hospitalized before for my mental illness</th>\n",
       "      <th>How many days were you hospitalized for your mental illness</th>\n",
       "      <th>I am legally disabled</th>\n",
       "      <th>I have my regular access to the internet</th>\n",
       "      <th>I live with my parents</th>\n",
       "      <th>I have a gap in my resume</th>\n",
       "      <th>...</th>\n",
       "      <th>Obsessive thinking</th>\n",
       "      <th>Mood swings</th>\n",
       "      <th>Panic attacks</th>\n",
       "      <th>Compulsive behavior</th>\n",
       "      <th>Tiredness</th>\n",
       "      <th>Age</th>\n",
       "      <th>Gender</th>\n",
       "      <th>Household Income</th>\n",
       "      <th>Region</th>\n",
       "      <th>Device Type</th>\n",
       "    </tr>\n",
       "  </thead>\n",
       "  <tbody>\n",
       "    <tr>\n",
       "      <th>0</th>\n",
       "      <td>0</td>\n",
       "      <td>0</td>\n",
       "      <td>High School or GED</td>\n",
       "      <td>0</td>\n",
       "      <td>0</td>\n",
       "      <td>0.0</td>\n",
       "      <td>0</td>\n",
       "      <td>1</td>\n",
       "      <td>0</td>\n",
       "      <td>1</td>\n",
       "      <td>...</td>\n",
       "      <td>1.0</td>\n",
       "      <td>0.0</td>\n",
       "      <td>1.0</td>\n",
       "      <td>0.0</td>\n",
       "      <td>0.0</td>\n",
       "      <td>30-44</td>\n",
       "      <td>Male</td>\n",
       "      <td>$25,000-$49,999</td>\n",
       "      <td>Mountain</td>\n",
       "      <td>Android Phone / Tablet</td>\n",
       "    </tr>\n",
       "    <tr>\n",
       "      <th>1</th>\n",
       "      <td>1</td>\n",
       "      <td>1</td>\n",
       "      <td>Some Phd</td>\n",
       "      <td>1</td>\n",
       "      <td>0</td>\n",
       "      <td>0.0</td>\n",
       "      <td>0</td>\n",
       "      <td>1</td>\n",
       "      <td>0</td>\n",
       "      <td>0</td>\n",
       "      <td>...</td>\n",
       "      <td>0.0</td>\n",
       "      <td>0.0</td>\n",
       "      <td>1.0</td>\n",
       "      <td>0.0</td>\n",
       "      <td>1.0</td>\n",
       "      <td>18-29</td>\n",
       "      <td>Male</td>\n",
       "      <td>$50,000-$74,999</td>\n",
       "      <td>East South Central</td>\n",
       "      <td>MacOS Desktop / Laptop</td>\n",
       "    </tr>\n",
       "    <tr>\n",
       "      <th>2</th>\n",
       "      <td>1</td>\n",
       "      <td>0</td>\n",
       "      <td>Completed Undergraduate</td>\n",
       "      <td>1</td>\n",
       "      <td>0</td>\n",
       "      <td>0.0</td>\n",
       "      <td>0</td>\n",
       "      <td>1</td>\n",
       "      <td>0</td>\n",
       "      <td>0</td>\n",
       "      <td>...</td>\n",
       "      <td>0.0</td>\n",
       "      <td>0.0</td>\n",
       "      <td>0.0</td>\n",
       "      <td>0.0</td>\n",
       "      <td>0.0</td>\n",
       "      <td>30-44</td>\n",
       "      <td>Male</td>\n",
       "      <td>$150,000-$174,999</td>\n",
       "      <td>Pacific</td>\n",
       "      <td>MacOS Desktop / Laptop</td>\n",
       "    </tr>\n",
       "    <tr>\n",
       "      <th>3</th>\n",
       "      <td>0</td>\n",
       "      <td>0</td>\n",
       "      <td>Some Undergraduate</td>\n",
       "      <td>1</td>\n",
       "      <td>0</td>\n",
       "      <td>NaN</td>\n",
       "      <td>0</td>\n",
       "      <td>1</td>\n",
       "      <td>1</td>\n",
       "      <td>1</td>\n",
       "      <td>...</td>\n",
       "      <td>0.0</td>\n",
       "      <td>0.0</td>\n",
       "      <td>0.0</td>\n",
       "      <td>0.0</td>\n",
       "      <td>0.0</td>\n",
       "      <td>30-44</td>\n",
       "      <td>Male</td>\n",
       "      <td>$25,000-$49,999</td>\n",
       "      <td>New England</td>\n",
       "      <td>Windows Desktop / Laptop</td>\n",
       "    </tr>\n",
       "    <tr>\n",
       "      <th>4</th>\n",
       "      <td>1</td>\n",
       "      <td>1</td>\n",
       "      <td>Completed Undergraduate</td>\n",
       "      <td>1</td>\n",
       "      <td>1</td>\n",
       "      <td>35.0</td>\n",
       "      <td>1</td>\n",
       "      <td>1</td>\n",
       "      <td>0</td>\n",
       "      <td>1</td>\n",
       "      <td>...</td>\n",
       "      <td>1.0</td>\n",
       "      <td>1.0</td>\n",
       "      <td>1.0</td>\n",
       "      <td>1.0</td>\n",
       "      <td>1.0</td>\n",
       "      <td>30-44</td>\n",
       "      <td>Male</td>\n",
       "      <td>$25,000-$49,999</td>\n",
       "      <td>East North Central</td>\n",
       "      <td>iOS Phone / Tablet</td>\n",
       "    </tr>\n",
       "  </tbody>\n",
       "</table>\n",
       "<p>5 rows × 31 columns</p>\n",
       "</div>"
      ],
      "text/plain": [
       "   I am currently employed at least part-time  \\\n",
       "0                                           0   \n",
       "1                                           1   \n",
       "2                                           1   \n",
       "3                                           0   \n",
       "4                                           1   \n",
       "\n",
       "   I identify as having a mental illness                Education  \\\n",
       "0                                      0       High School or GED   \n",
       "1                                      1                 Some Phd   \n",
       "2                                      0  Completed Undergraduate   \n",
       "3                                      0       Some Undergraduate   \n",
       "4                                      1  Completed Undergraduate   \n",
       "\n",
       "   I have my own computer separate from a smart phone  \\\n",
       "0                                                  0    \n",
       "1                                                  1    \n",
       "2                                                  1    \n",
       "3                                                  1    \n",
       "4                                                  1    \n",
       "\n",
       "   I have been hospitalized before for my mental illness  \\\n",
       "0                                                  0       \n",
       "1                                                  0       \n",
       "2                                                  0       \n",
       "3                                                  0       \n",
       "4                                                  1       \n",
       "\n",
       "   How many days were you hospitalized for your mental illness  \\\n",
       "0                                                0.0             \n",
       "1                                                0.0             \n",
       "2                                                0.0             \n",
       "3                                                NaN             \n",
       "4                                               35.0             \n",
       "\n",
       "   I am legally disabled  I have my regular access to the internet  \\\n",
       "0                      0                                         1   \n",
       "1                      0                                         1   \n",
       "2                      0                                         1   \n",
       "3                      0                                         1   \n",
       "4                      1                                         1   \n",
       "\n",
       "   I live with my parents  I have a gap in my resume  ...  Obsessive thinking  \\\n",
       "0                       0                          1  ...                 1.0   \n",
       "1                       0                          0  ...                 0.0   \n",
       "2                       0                          0  ...                 0.0   \n",
       "3                       1                          1  ...                 0.0   \n",
       "4                       0                          1  ...                 1.0   \n",
       "\n",
       "   Mood swings  Panic attacks  Compulsive behavior  Tiredness    Age  Gender  \\\n",
       "0          0.0            1.0                  0.0        0.0  30-44    Male   \n",
       "1          0.0            1.0                  0.0        1.0  18-29    Male   \n",
       "2          0.0            0.0                  0.0        0.0  30-44    Male   \n",
       "3          0.0            0.0                  0.0        0.0  30-44    Male   \n",
       "4          1.0            1.0                  1.0        1.0  30-44    Male   \n",
       "\n",
       "    Household Income              Region               Device Type  \n",
       "0    $25,000-$49,999            Mountain    Android Phone / Tablet  \n",
       "1    $50,000-$74,999  East South Central    MacOS Desktop / Laptop  \n",
       "2  $150,000-$174,999             Pacific    MacOS Desktop / Laptop  \n",
       "3    $25,000-$49,999         New England  Windows Desktop / Laptop  \n",
       "4    $25,000-$49,999  East North Central        iOS Phone / Tablet  \n",
       "\n",
       "[5 rows x 31 columns]"
      ]
     },
     "execution_count": 2,
     "metadata": {},
     "output_type": "execute_result"
    }
   ],
   "source": [
    "df=pd.read_excel(r\"Enter path for dataset\")\n",
    "df.head()"
   ]
  },
  {
   "cell_type": "markdown",
   "metadata": {},
   "source": [
    "Renaming column names to simpler ones"
   ]
  },
  {
   "cell_type": "code",
   "execution_count": 3,
   "metadata": {
    "execution": {
     "iopub.execute_input": "2023-11-04T18:14:38.039447Z",
     "iopub.status.busy": "2023-11-04T18:14:38.039084Z",
     "iopub.status.idle": "2023-11-04T18:14:38.047579Z",
     "shell.execute_reply": "2023-11-04T18:14:38.046689Z",
     "shell.execute_reply.started": "2023-11-04T18:14:38.039424Z"
    }
   },
   "outputs": [],
   "source": [
    "df.rename(columns={'I identify as having a mental illness':'MentallyIll'}, inplace =True)\n",
    "df.rename(columns={'I am unemployed':'Unemployed'}, inplace =True)"
   ]
  },
  {
   "cell_type": "code",
   "execution_count": 4,
   "metadata": {
    "execution": {
     "iopub.execute_input": "2023-11-04T18:14:38.049732Z",
     "iopub.status.busy": "2023-11-04T18:14:38.049504Z",
     "iopub.status.idle": "2023-11-04T18:14:38.070043Z",
     "shell.execute_reply": "2023-11-04T18:14:38.069309Z",
     "shell.execute_reply.started": "2023-11-04T18:14:38.049709Z"
    },
    "scrolled": true
   },
   "outputs": [
    {
     "name": "stdout",
     "output_type": "stream",
     "text": [
      "<class 'pandas.core.frame.DataFrame'>\n",
      "RangeIndex: 334 entries, 0 to 333\n",
      "Data columns (total 31 columns):\n",
      " #   Column                                                        Non-Null Count  Dtype  \n",
      "---  ------                                                        --------------  -----  \n",
      " 0   I am currently employed at least part-time                    334 non-null    int64  \n",
      " 1   MentallyIll                                                   334 non-null    int64  \n",
      " 2   Education                                                     334 non-null    object \n",
      " 3   I have my own computer separate from a smart phone            334 non-null    int64  \n",
      " 4   I have been hospitalized before for my mental illness         334 non-null    int64  \n",
      " 5   How many days were you hospitalized for your mental illness   297 non-null    float64\n",
      " 6   I am legally disabled                                         334 non-null    int64  \n",
      " 7   I have my regular access to the internet                      334 non-null    int64  \n",
      " 8   I live with my parents                                        334 non-null    int64  \n",
      " 9   I have a gap in my resume                                     334 non-null    int64  \n",
      " 10  Total length of any gaps in my resume in months.              334 non-null    int64  \n",
      " 11  Annual income (including any social welfare programs) in USD  334 non-null    int64  \n",
      " 12  Unemployed                                                    334 non-null    int64  \n",
      " 13  I read outside of work and school                             334 non-null    int64  \n",
      " 14  Annual income from social welfare programs                    334 non-null    int64  \n",
      " 15  I receive food stamps                                         334 non-null    int64  \n",
      " 16  I am on section 8 housing                                     334 non-null    int64  \n",
      " 17  How many times were you hospitalized for your mental illness  334 non-null    int64  \n",
      " 18  Lack of concentration                                         333 non-null    float64\n",
      " 19  Anxiety                                                       334 non-null    int64  \n",
      " 20  Depression                                                    334 non-null    int64  \n",
      " 21  Obsessive thinking                                            333 non-null    float64\n",
      " 22  Mood swings                                                   333 non-null    float64\n",
      " 23  Panic attacks                                                 333 non-null    float64\n",
      " 24  Compulsive behavior                                           333 non-null    float64\n",
      " 25  Tiredness                                                     333 non-null    float64\n",
      " 26  Age                                                           334 non-null    object \n",
      " 27  Gender                                                        334 non-null    object \n",
      " 28  Household Income                                              334 non-null    object \n",
      " 29  Region                                                        332 non-null    object \n",
      " 30  Device Type                                                   334 non-null    object \n",
      "dtypes: float64(7), int64(18), object(6)\n",
      "memory usage: 81.0+ KB\n"
     ]
    }
   ],
   "source": [
    "df.info()"
   ]
  },
  {
   "cell_type": "markdown",
   "metadata": {},
   "source": [
    "Labeling Yes and No and fillings NaN's"
   ]
  },
  {
   "cell_type": "code",
   "execution_count": 5,
   "metadata": {
    "execution": {
     "iopub.execute_input": "2023-11-04T18:14:38.072263Z",
     "iopub.status.busy": "2023-11-04T18:14:38.070973Z",
     "iopub.status.idle": "2023-11-04T18:14:38.077921Z",
     "shell.execute_reply": "2023-11-04T18:14:38.077347Z",
     "shell.execute_reply.started": "2023-11-04T18:14:38.072240Z"
    }
   },
   "outputs": [],
   "source": [
    "df = df.replace(to_replace=['No', 'Yes'], value=[0, 1])\n",
    "df = df.fillna(0)\n",
    "df = df.iloc[1:]"
   ]
  },
  {
   "cell_type": "code",
   "execution_count": 6,
   "metadata": {
    "execution": {
     "iopub.execute_input": "2023-11-04T18:14:38.079484Z",
     "iopub.status.busy": "2023-11-04T18:14:38.078777Z",
     "iopub.status.idle": "2023-11-04T18:14:38.094661Z",
     "shell.execute_reply": "2023-11-04T18:14:38.093697Z",
     "shell.execute_reply.started": "2023-11-04T18:14:38.079462Z"
    }
   },
   "outputs": [
    {
     "name": "stdout",
     "output_type": "stream",
     "text": [
      "<class 'pandas.core.frame.DataFrame'>\n",
      "RangeIndex: 333 entries, 1 to 333\n",
      "Data columns (total 31 columns):\n",
      " #   Column                                                        Non-Null Count  Dtype  \n",
      "---  ------                                                        --------------  -----  \n",
      " 0   I am currently employed at least part-time                    333 non-null    int64  \n",
      " 1   MentallyIll                                                   333 non-null    int64  \n",
      " 2   Education                                                     333 non-null    object \n",
      " 3   I have my own computer separate from a smart phone            333 non-null    int64  \n",
      " 4   I have been hospitalized before for my mental illness         333 non-null    int64  \n",
      " 5   How many days were you hospitalized for your mental illness   333 non-null    float64\n",
      " 6   I am legally disabled                                         333 non-null    int64  \n",
      " 7   I have my regular access to the internet                      333 non-null    int64  \n",
      " 8   I live with my parents                                        333 non-null    int64  \n",
      " 9   I have a gap in my resume                                     333 non-null    int64  \n",
      " 10  Total length of any gaps in my resume in months.              333 non-null    int64  \n",
      " 11  Income                                                        333 non-null    int64  \n",
      " 12  Unemployed                                                    333 non-null    int64  \n",
      " 13  I read outside of work and school                             333 non-null    int64  \n",
      " 14  Annual income from social welfare programs                    333 non-null    int64  \n",
      " 15  I receive food stamps                                         333 non-null    int64  \n",
      " 16  I am on section 8 housing                                     333 non-null    int64  \n",
      " 17  How many times were you hospitalized for your mental illness  333 non-null    int64  \n",
      " 18  Lack of concentration                                         333 non-null    float64\n",
      " 19  Anxiety                                                       333 non-null    int64  \n",
      " 20  Depression                                                    333 non-null    int64  \n",
      " 21  Obsessive thinking                                            333 non-null    float64\n",
      " 22  Mood swings                                                   333 non-null    float64\n",
      " 23  Panic attacks                                                 333 non-null    float64\n",
      " 24  Compulsive behavior                                           333 non-null    float64\n",
      " 25  Tiredness                                                     333 non-null    float64\n",
      " 26  Age                                                           333 non-null    object \n",
      " 27  Gender                                                        333 non-null    object \n",
      " 28  Household Income                                              333 non-null    object \n",
      " 29  Region                                                        333 non-null    object \n",
      " 30  Device Type                                                   333 non-null    object \n",
      "dtypes: float64(7), int64(18), object(6)\n",
      "memory usage: 80.8+ KB\n"
     ]
    }
   ],
   "source": [
    "df.rename(columns={\"Annual income (including any social welfare programs) in USD\":\"Income\"},inplace=True)\n",
    "df.info()"
   ]
  },
  {
   "cell_type": "markdown",
   "metadata": {},
   "source": [
    "Labeling encoding columns"
   ]
  },
  {
   "cell_type": "code",
   "execution_count": 7,
   "metadata": {
    "execution": {
     "iopub.execute_input": "2023-11-04T18:14:38.096180Z",
     "iopub.status.busy": "2023-11-04T18:14:38.095915Z",
     "iopub.status.idle": "2023-11-04T18:14:38.110518Z",
     "shell.execute_reply": "2023-11-04T18:14:38.109654Z",
     "shell.execute_reply.started": "2023-11-04T18:14:38.096158Z"
    }
   },
   "outputs": [],
   "source": [
    "df2 = df\n",
    "df2 = df2.iloc[:, :-3]\n",
    "df2 = df2.replace(['Lack of concentration','Anxiety', 'Depression', \n",
    "                   'Obsessive thinking', 'Panic attacks', 'Compulsive behavior', \n",
    "                   'Mood swings', 'Tiredness'], 1)\n",
    "df2 = df2.replace(to_replace=['Female', 'Male'], value=[0, 1])\n",
    "df2 = df2.replace(to_replace=['> 60', '45-60', '30-44','18-29'], value=[65, 52, 37, 23])\n",
    "df2 = df2.replace(to_replace=['Completed Phd', 'Some Phd', 'Completed Masters','Some\\xa0Masters', \n",
    "                              'Completed Undergraduate', 'Some Undergraduate', 'High School or GED', 'Some highschool']\n",
    "                              , value=[7, 6, 5, 4, 3, 2, 1, 0])"
   ]
  },
  {
   "cell_type": "code",
   "execution_count": 8,
   "metadata": {
    "execution": {
     "iopub.execute_input": "2023-11-04T18:14:38.174996Z",
     "iopub.status.busy": "2023-11-04T18:14:38.174694Z",
     "iopub.status.idle": "2023-11-04T18:14:38.185431Z",
     "shell.execute_reply": "2023-11-04T18:14:38.184553Z",
     "shell.execute_reply.started": "2023-11-04T18:14:38.174974Z"
    }
   },
   "outputs": [
    {
     "name": "stdout",
     "output_type": "stream",
     "text": [
      "<class 'pandas.core.frame.DataFrame'>\n",
      "RangeIndex: 333 entries, 1 to 333\n",
      "Data columns (total 28 columns):\n",
      " #   Column                                                        Non-Null Count  Dtype  \n",
      "---  ------                                                        --------------  -----  \n",
      " 0   I am currently employed at least part-time                    333 non-null    int64  \n",
      " 1   MentallyIll                                                   333 non-null    int64  \n",
      " 2   Education                                                     333 non-null    int64  \n",
      " 3   I have my own computer separate from a smart phone            333 non-null    int64  \n",
      " 4   I have been hospitalized before for my mental illness         333 non-null    int64  \n",
      " 5   How many days were you hospitalized for your mental illness   333 non-null    float64\n",
      " 6   I am legally disabled                                         333 non-null    int64  \n",
      " 7   I have my regular access to the internet                      333 non-null    int64  \n",
      " 8   I live with my parents                                        333 non-null    int64  \n",
      " 9   I have a gap in my resume                                     333 non-null    int64  \n",
      " 10  Total length of any gaps in my resume in months.              333 non-null    int64  \n",
      " 11  Income                                                        333 non-null    int64  \n",
      " 12  Unemployed                                                    333 non-null    int64  \n",
      " 13  I read outside of work and school                             333 non-null    int64  \n",
      " 14  Annual income from social welfare programs                    333 non-null    int64  \n",
      " 15  I receive food stamps                                         333 non-null    int64  \n",
      " 16  I am on section 8 housing                                     333 non-null    int64  \n",
      " 17  How many times were you hospitalized for your mental illness  333 non-null    int64  \n",
      " 18  Lack of concentration                                         333 non-null    float64\n",
      " 19  Anxiety                                                       333 non-null    int64  \n",
      " 20  Depression                                                    333 non-null    int64  \n",
      " 21  Obsessive thinking                                            333 non-null    float64\n",
      " 22  Mood swings                                                   333 non-null    float64\n",
      " 23  Panic attacks                                                 333 non-null    float64\n",
      " 24  Compulsive behavior                                           333 non-null    float64\n",
      " 25  Tiredness                                                     333 non-null    float64\n",
      " 26  Age                                                           333 non-null    int64  \n",
      " 27  Gender                                                        333 non-null    int64  \n",
      "dtypes: float64(7), int64(21)\n",
      "memory usage: 73.0 KB\n"
     ]
    }
   ],
   "source": [
    "df2.info()"
   ]
  },
  {
   "cell_type": "code",
   "execution_count": 9,
   "metadata": {
    "execution": {
     "iopub.execute_input": "2023-11-04T18:14:38.334855Z",
     "iopub.status.busy": "2023-11-04T18:14:38.334532Z",
     "iopub.status.idle": "2023-11-04T18:14:39.049669Z",
     "shell.execute_reply": "2023-11-04T18:14:39.048919Z",
     "shell.execute_reply.started": "2023-11-04T18:14:38.334831Z"
    }
   },
   "outputs": [],
   "source": [
    "from sklearn.model_selection import train_test_split,cross_val_predict\n",
    "from sklearn.ensemble import RandomForestClassifier"
   ]
  },
  {
   "cell_type": "code",
   "execution_count": 10,
   "metadata": {
    "execution": {
     "iopub.execute_input": "2023-11-04T18:14:39.051395Z",
     "iopub.status.busy": "2023-11-04T18:14:39.051129Z",
     "iopub.status.idle": "2023-11-04T18:14:39.054932Z",
     "shell.execute_reply": "2023-11-04T18:14:39.054234Z",
     "shell.execute_reply.started": "2023-11-04T18:14:39.051374Z"
    }
   },
   "outputs": [],
   "source": [
    "from matplotlib import pyplot as plt"
   ]
  },
  {
   "cell_type": "code",
   "execution_count": 11,
   "metadata": {
    "execution": {
     "iopub.execute_input": "2023-11-04T18:14:39.056663Z",
     "iopub.status.busy": "2023-11-04T18:14:39.055956Z",
     "iopub.status.idle": "2023-11-04T18:14:39.066330Z",
     "shell.execute_reply": "2023-11-04T18:14:39.065500Z",
     "shell.execute_reply.started": "2023-11-04T18:14:39.056635Z"
    }
   },
   "outputs": [],
   "source": [
    "from sklearn.metrics import precision_score,recall_score\n",
    "from sklearn.metrics import precision_recall_curve"
   ]
  },
  {
   "cell_type": "code",
   "execution_count": 12,
   "metadata": {
    "execution": {
     "iopub.execute_input": "2023-11-04T18:14:39.068733Z",
     "iopub.status.busy": "2023-11-04T18:14:39.068404Z",
     "iopub.status.idle": "2023-11-04T18:14:39.078247Z",
     "shell.execute_reply": "2023-11-04T18:14:39.077561Z",
     "shell.execute_reply.started": "2023-11-04T18:14:39.068707Z"
    }
   },
   "outputs": [],
   "source": [
    "columns=df2.columns\n",
    "columns=list(columns)\n",
    "columns.remove(\"MentallyIll\")\n",
    "X=df2[columns]\n",
    "y=df2[\"MentallyIll\"]"
   ]
  },
  {
   "cell_type": "code",
   "execution_count": 13,
   "metadata": {
    "execution": {
     "iopub.execute_input": "2023-11-04T18:14:39.079529Z",
     "iopub.status.busy": "2023-11-04T18:14:39.079075Z",
     "iopub.status.idle": "2023-11-04T18:14:39.089039Z",
     "shell.execute_reply": "2023-11-04T18:14:39.088491Z",
     "shell.execute_reply.started": "2023-11-04T18:14:39.079508Z"
    }
   },
   "outputs": [],
   "source": [
    "xtr,xtes,ytr,ytes=train_test_split(X,y,test_size=0.2,random_state=42)"
   ]
  },
  {
   "cell_type": "code",
   "execution_count": 14,
   "metadata": {
    "execution": {
     "iopub.execute_input": "2023-11-04T18:14:39.090453Z",
     "iopub.status.busy": "2023-11-04T18:14:39.089730Z",
     "iopub.status.idle": "2023-11-04T18:14:39.642859Z",
     "shell.execute_reply": "2023-11-04T18:14:39.641981Z",
     "shell.execute_reply.started": "2023-11-04T18:14:39.090426Z"
    }
   },
   "outputs": [
    {
     "name": "stdout",
     "output_type": "stream",
     "text": [
      "Score of the model is: 0.8208955223880597\n",
      "precision of the model is: 0.7910447761194029\n",
      "recall of the model is: 0.828125\n"
     ]
    }
   ],
   "source": [
    "model=RandomForestClassifier(max_depth=15,random_state=42)\n",
    "model.fit(xtr,ytr)\n",
    "pred = cross_val_predict(model, xtr, ytr, cv=3)\n",
    "\n",
    "print(\"Score of the model is:\",model.score(xtes,ytes))\n",
    "print(\"precision of the model is:\",precision_score(ytr,pred))\n",
    "print(\"recall of the model is:\",recall_score(ytr,pred))"
   ]
  },
  {
   "cell_type": "code",
   "execution_count": 15,
   "metadata": {
    "execution": {
     "iopub.execute_input": "2023-11-04T18:14:39.644580Z",
     "iopub.status.busy": "2023-11-04T18:14:39.644248Z",
     "iopub.status.idle": "2023-11-04T18:14:39.748442Z",
     "shell.execute_reply": "2023-11-04T18:14:39.747400Z",
     "shell.execute_reply.started": "2023-11-04T18:14:39.644550Z"
    }
   },
   "outputs": [
    {
     "data": {
      "image/png": "[encoded data removed]",
      "text/plain": [
       "<Figure size 1400x700 with 1 Axes>"
      ]
     },
     "metadata": {},
     "output_type": "display_data"
    }
   ],
   "source": [
    "y_scores = model.predict_proba(xtr)\n",
    "y_scores = y_scores[:,1]\n",
    "precision, recall, threshold = precision_recall_curve(ytr, y_scores)\n",
    "\n",
    "plt.figure(figsize=(14, 7))\n",
    "\n",
    "plt.plot(threshold, precision[:-1], \"orange\", label=\"precision\", linewidth=5)\n",
    "plt.plot(threshold, recall[:-1], \"b\", label=\"recall\", linewidth=5)\n",
    "\n",
    "plt.xlabel(\"Threshold\", fontsize=19)\n",
    "plt.ylabel(\"Precision/Recall\", fontsize=19)\n",
    "plt.title('Precision-Recall Curve', fontsize=24)\n",
    "\n",
    "plt.tick_params(labelsize=16)\n",
    "\n",
    "plt.legend(loc=\"upper right\", fontsize=19)\n",
    "plt.show()"
   ]
  },
  {
   "cell_type": "code",
   "execution_count": 16,
   "metadata": {
    "execution": {
     "iopub.status.busy": "2023-11-04T18:14:39.749230Z",
     "iopub.status.idle": "2023-11-04T18:14:39.749504Z",
     "shell.execute_reply": "2023-11-04T18:14:39.749386Z",
     "shell.execute_reply.started": "2023-11-04T18:14:39.749373Z"
    }
   },
   "outputs": [],
   "source": [
    "def menill(x_record):\n",
    "    x_patient = pd.Series(x_record)\n",
    "    x_patient = x_patient.fillna(0)\n",
    "    x_patient = x_patient.replace(to_replace=[\"No\",\"Yes\"],value=[0,1])\n",
    "    x_patient = x_patient.replace(['Lack of concentration','Anxiety', 'Depression', \n",
    "                   'Obsessive thinking', 'Panic attacks', 'Compulsive behavior', \n",
    "                   'Mood swings', 'Tiredness'], 1)\n",
    "    x_patient = x_patient.replace(to_replace=['Female', 'Male'], value=[0, 1])\n",
    "    x_patient = x_patient.replace(to_replace=['> 60', '45-60', '30-44','18-29'], value=[65, 52, 37, 23])\n",
    "    x_patient = x_patient.replace(to_replace=['Completed Phd', 'Some Phd', 'Completed Masters','Some\\xa0Masters', \n",
    "                              'Completed Undergraduate', 'Some Undergraduate', 'High School or GED', 'Some highschool']\n",
    "                              , value=[7, 6, 5, 4, 3, 2, 1, 0])\n",
    "    x_pat=np.array(x_patient).reshape(1,-1)\n",
    "    y_pred=model.predict(x_pat)\n",
    "    if(y_pred == 1):\n",
    "        print(\"Consultation is advised\")\n",
    "    else:\n",
    "        print(\"Consultation depends on users feelings\")\n",
    "    "
   ]
  },
  {
   "cell_type": "code",
   "execution_count": 17,
   "metadata": {},
   "outputs": [
    {
     "data": {
      "text/plain": [
       "['rfmodel.pkl']"
      ]
     },
     "execution_count": 17,
     "metadata": {},
     "output_type": "execute_result"
    }
   ],
   "source": [
    "import joblib\n",
    "joblib.dump(model,\"rfmodel.pkl\")"
   ]
  },
  {
   "cell_type": "code",
   "execution_count": 20,
   "metadata": {},
   "outputs": [
    {
     "name": "stdout",
     "output_type": "stream",
     "text": [
      "Education ('Completed Phd', 'Some Phd', 'Completed Masters','Some Masters', 'Completed Undergraduate', 'Some Undergraduate', 'High School or GED', 'Some highschool'): Some Undergraduate\n",
      "I have my own computer separate from a smart phone (Yes/No): Yes\n",
      "I have been hospitalized before for my mental illness (Yes/No): No\n",
      "How many days were you hospitalized for your mental illness (Open-Ended Response): 0\n",
      "I am currently employed at least part-time (Yes/No): Yes\n",
      "I am legally disabled (Yes/No): No\n",
      "I have my regular access to the internet (Yes/No): Yes\n",
      "I live with my parents (Yes/No): No\n",
      "I have a gap in my resume (Yes/No): No\n",
      "Total length of any gaps in my resume in months (Open-Ended Response): 0\n",
      "Annual income (including any social welfare programs) in USD (Open-Ended Response): 100000\n",
      "I am unemployed (Yes/No): No\n",
      "I read outside of work and school (Yes/No): Yes\n",
      "Annual income from social welfare programs (Open-Ended Response): 0\n",
      "I receive food stamps (Yes/No): No\n",
      "I am on section 8 housing (Yes/No): No\n",
      "How many times were you hospitalized for your mental illness (Open-Ended Response): 0\n",
      "I have one of the following issues in addition to my illness (Lack of concentration):Yes\n",
      "Anxiety:Yes\n",
      "Depression:Yes\n",
      "Obsessive thinking:No\n",
      "Mood swings:No\n",
      "Panic attacks:No\n",
      "Compulsive behavior:No\n",
      "Tiredness: No\n",
      "Age : 21\n",
      "Gender: Male\n",
      "The result is,:\n",
      "Consultation is advised\n"
     ]
    },
    {
     "name": "stderr",
     "output_type": "stream",
     "text": [
      "C:\\Users\\91811\\anaconda3\\lib\\site-packages\\sklearn\\base.py:420: UserWarning: X does not have valid feature names, but RandomForestClassifier was fitted with feature names\n",
      "  warnings.warn(\n"
     ]
    }
   ],
   "source": [
    "responses = []\n",
    "\n",
    "responses.append(input(\"Education ('Completed Phd', 'Some Phd', 'Completed Masters','Some Masters', 'Completed Undergraduate', 'Some Undergraduate', 'High School or GED', 'Some highschool'): \"))\n",
    "responses.append(input(\"I have my own computer separate from a smart phone (Yes/No): \"))\n",
    "responses.append(input(\"I have been hospitalized before for my mental illness (Yes/No): \"))\n",
    "responses.append(input(\"How many days were you hospitalized for your mental illness (Open-Ended Response): \"))\n",
    "responses.append(input(\"I am currently employed at least part-time (Yes/No): \"))\n",
    "responses.append(input(\"I am legally disabled (Yes/No): \"))\n",
    "responses.append(input(\"I have my regular access to the internet (Yes/No): \"))\n",
    "responses.append(input(\"I live with my parents (Yes/No): \"))\n",
    "responses.append(input(\"I have a gap in my resume (Yes/No): \"))\n",
    "responses.append(input(\"Total length of any gaps in my resume in months (Open-Ended Response): \"))\n",
    "responses.append(input(\"Annual income (including any social welfare programs) in USD (Open-Ended Response): \"))\n",
    "responses.append(input(\"I am unemployed (Yes/No): \"))\n",
    "responses.append(input(\"I read outside of work and school (Yes/No): \"))\n",
    "responses.append(input(\"Annual income from social welfare programs (Open-Ended Response): \"))\n",
    "responses.append(input(\"I receive food stamps (Yes/No): \"))\n",
    "responses.append(input(\"I am on section 8 housing (Yes/No): \"))\n",
    "responses.append(input(\"How many times were you hospitalized for your mental illness (Open-Ended Response): \"))\n",
    "responses.append(input(\"I have one of the following issues in addition to my illness (Lack of concentration):\"))\n",
    "responses.append(input(\"Anxiety:\"))\n",
    "responses.append(input(\"Depression:\"))\n",
    "responses.append(input(\"Obsessive thinking:\"))\n",
    "responses.append(input(\"Mood swings:\"))\n",
    "responses.append(input(\"Panic attacks:\"))\n",
    "responses.append(input(\"Compulsive behavior:\"))\n",
    "responses.append(input(\"Tiredness: \"))\n",
    "responses.append(input(\"Age : \"))\n",
    "responses.append(input(\"Gender: \"))\n",
    "\n",
    "print(\"The result is,:\")\n",
    "menill(responses)"
   ]
  }
 ],
 "metadata": {
  "kernelspec": {
   "display_name": "Python 3 (ipykernel)",
   "language": "python",
   "name": "python3"
  },
  "language_info": {
   "codemirror_mode": {
    "name": "ipython",
    "version": 3
   },
   "file_extension": ".py",
   "mimetype": "text/x-python",
   "name": "python",
   "nbconvert_exporter": "python",
   "pygments_lexer": "ipython3",
   "version": "3.10.9"
  }
 },
 "nbformat": 4,
 "nbformat_minor": 4
}
